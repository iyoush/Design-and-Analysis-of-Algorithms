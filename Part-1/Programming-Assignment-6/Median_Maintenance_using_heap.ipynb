{
 "cells": [
  {
   "cell_type": "markdown",
   "metadata": {},
   "source": [
    "Application of a Heap data structure to the Median Maintrnance problem. The goal of this problem is to implement the \"Median Maintenance\" algorithm. The text file contains a list of the integers from 1 to 10000 in unsorted order; you should treat this as a stream of numbers, arriving one by one. Letting xi denote the ith number of the file, the kth median mk is defined as the median of the numbers x1,…,xk. (So, if k is odd, then mk is ((k+1)/2)th smallest number among x1,…,xk; if k is even, then mk is the (k/2)th smallest number among x1,…,xk.)"
   ]
  },
  {
   "cell_type": "code",
   "execution_count": 32,
   "metadata": {
    "collapsed": true
   },
   "outputs": [],
   "source": [
    "import heapq\n",
    "from numpy import *"
   ]
  },
  {
   "cell_type": "code",
   "execution_count": 33,
   "metadata": {
    "collapsed": false
   },
   "outputs": [],
   "source": [
    "def maintain_medians(arr):\n",
    "    HL = []\n",
    "    HH = []\n",
    "    Medians = []\n",
    "    \n",
    "    for a in arr:\n",
    "        #heapq.heappush(HL, a)\n",
    "        if len(HL) == 0 or len(HH) == 0:\n",
    "            heapq.heappush(HL, -a)\n",
    "            balance_heap(HL, HH)\n",
    "\n",
    "        else:\n",
    "            if a > HH[0]:\n",
    "                heapq.heappush(HH, a)\n",
    "            else:\n",
    "                heapq.heappush(HL, -a)\n",
    "            balance_heap(HL, HH)\n",
    "\n",
    "        median = locate_median(HL, HH)\n",
    "        Medians.append(median)\n",
    "\n",
    "    return Medians"
   ]
  },
  {
   "cell_type": "code",
   "execution_count": 34,
   "metadata": {
    "collapsed": false
   },
   "outputs": [],
   "source": [
    "def balance_heap(HL, HH):\n",
    "    if (len(HL) - len(HH)) >=2:\n",
    "        m = heapq.heappop(HL)\n",
    "        heapq.heappush(HH, -m)\n",
    "    elif (len(HH) - len(HL)) >=2:\n",
    "        m = heapq.heappop(HH)\n",
    "        heapq.heappush(HL, -m)"
   ]
  },
  {
   "cell_type": "code",
   "execution_count": 35,
   "metadata": {
    "collapsed": false
   },
   "outputs": [],
   "source": [
    "def locate_median(HL, HH):\n",
    "    if len(HL) >= len(HH):\n",
    "        median = -HL[0]\n",
    "        \n",
    "    else:\n",
    "        median = HH[0]\n",
    "        \n",
    "    return median"
   ]
  },
  {
   "cell_type": "code",
   "execution_count": 36,
   "metadata": {
    "collapsed": false
   },
   "outputs": [],
   "source": [
    "#filepath = r'/home/cloudera/Desktop/educational/ADA1/Programming Assignment 6/Median.txt'\n",
    "#arr = loadtxt(filepath)\n",
    "arr = array([1,3,5,7,12,9,17,2])\n",
    "Medians = maintain_medians(arr)"
   ]
  },
  {
   "cell_type": "code",
   "execution_count": 37,
   "metadata": {
    "collapsed": false
   },
   "outputs": [
    {
     "data": {
      "text/plain": [
       "[1, 1, 3, 3, 5, 5, 7, 5]"
      ]
     },
     "execution_count": 37,
     "metadata": {},
     "output_type": "execute_result"
    }
   ],
   "source": [
    "Medians"
   ]
  },
  {
   "cell_type": "code",
   "execution_count": null,
   "metadata": {
    "collapsed": false
   },
   "outputs": [],
   "source": []
  },
  {
   "cell_type": "code",
   "execution_count": null,
   "metadata": {
    "collapsed": true
   },
   "outputs": [],
   "source": []
  }
 ],
 "metadata": {
  "kernelspec": {
   "display_name": "Python 2",
   "language": "python",
   "name": "python2"
  },
  "language_info": {
   "codemirror_mode": {
    "name": "ipython",
    "version": 2
   },
   "file_extension": ".py",
   "mimetype": "text/x-python",
   "name": "python",
   "nbconvert_exporter": "python",
   "pygments_lexer": "ipython2",
   "version": "2.7.9"
  }
 },
 "nbformat": 4,
 "nbformat_minor": 0
}
