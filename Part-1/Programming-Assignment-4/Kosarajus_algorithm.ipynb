{
 "cells": [
  {
   "cell_type": "markdown",
   "metadata": {},
   "source": [
    "#Design and Analysis of Algorithms I\n",
    "##Programming Assignment 4\n",
    "###Computing strongly connected components (SCCs) in a directed acyclical graph.\n",
    "\n",
    "This problem involves finding the five biggest SCCs in a directed acyclical graph. The graph is made available in the form of a 70MB text file where each row represents one edge, with the left entry representing the \"from\" node and the right entry representing the \"to\" node.\n",
    "\n",
    "Before solving the actual problem (where the given graph is a 70MB file), I have created a small test \n",
    "graph (shown below) which is represented in an adjacency list form. In each line, the first entry represents the from node of an edge while every subsequent entry represents the \"to\" nodes of the outbound edges."
   ]
  },
  {
   "cell_type": "raw",
   "metadata": {},
   "source": [
    "[cloudera@localhost Programming Assignment 4]$ cat SCC_test_rev.txt\n",
    "\n",
    "1,7\n",
    "2,5\n",
    "3,9\n",
    "4,1\n",
    "5,8\n",
    "6,8,3\n",
    "7,4,9\n",
    "8,2\n",
    "9,6"
   ]
  },
  {
   "cell_type": "markdown",
   "metadata": {},
   "source": [
    "Reversing the graph using Hadoop in order to represent it in an adjacency list format"
   ]
  },
  {
   "cell_type": "code",
   "execution_count": 1,
   "metadata": {
    "collapsed": false
   },
   "outputs": [],
   "source": [
    "# Reading in G_rev\n",
    "f = open(r'/home/cloudera/Desktop/educational/ADA1/Programming Assignment 4/SCC_test_rev.txt')\n",
    "g_rev = {}\n",
    "for line in f:\n",
    "    tail = line.strip().split(',')[0]\n",
    "    heads = line.strip().split(',')[1:]\n",
    "    g_rev[tail] = heads    "
   ]
  },
  {
   "cell_type": "code",
   "execution_count": 11,
   "metadata": {
    "collapsed": false
   },
   "outputs": [
    {
     "name": "stdout",
     "output_type": "stream",
     "text": [
      "{'1': ['7'], '3': ['9'], '2': ['5'], '5': ['8'], '4': ['1'], '7': ['4', '9'], '6': ['8', '3'], '9': ['6'], '8': ['2']}\n"
     ]
    }
   ],
   "source": [
    "print g_rev"
   ]
  },
  {
   "cell_type": "code",
   "execution_count": 35,
   "metadata": {
    "collapsed": false
   },
   "outputs": [],
   "source": [
    "def DFS_Loop_Rev(G):\n",
    "    # define the global variables\n",
    "\n",
    "    # Create a dictionary for book keeping. This dictionary will keep track of: \n",
    "    # - whether a node has been explored or not\n",
    "    # - the finishing times of each node in the first Pass of DFS on reversed graph G_rev\n",
    "    # - the leader node for each node in second pass of DFS on the forward graph G\n",
    "    global d\n",
    "    d = {}\n",
    "    for key in G.keys():\n",
    "            d[key] = {'explored':0, 't':0, 'leader':''}\n",
    "    global t \n",
    "    t = 0 #to track the finishing times of each node\n",
    "    \n",
    "    for key in G.keys():\n",
    "        if d[key]['explored'] <> 1:\n",
    "            \n",
    "            DFS(G,i)"
   ]
  },
  {
   "cell_type": "code",
   "execution_count": null,
   "metadata": {
    "collapsed": true
   },
   "outputs": [],
   "source": [
    "def DFS_Loop(G):\n",
    "    # define the global variables\n",
    "\n",
    "    # Create a dictionary for book keeping. This dictionary will keep track of: \n",
    "    # - whether a node has been explored or not\n",
    "    # - the finishing times of each node in the first Pass of DFS on reversed graph G_rev\n",
    "    # - the leader node for each node in second pass of DFS on the forward graph G\n",
    "    global d\n",
    "    d = {}\n",
    "    for key in G.keys():\n",
    "            d[key] = {'explored':0, 't':0, 'leader':''}\n",
    "    #global t \n",
    "    #t = 0 #to track the finishing times of each node\n",
    "    global S \n",
    "    S = '' #to track the leader node of each node\n",
    "    for key in G.keys():\n",
    "        if d[key]['explored'] <> 1:\n",
    "            #S = i\n",
    "            DFS(G,i)"
   ]
  },
  {
   "cell_type": "code",
   "execution_count": 31,
   "metadata": {
    "collapsed": false
   },
   "outputs": [],
   "source": [
    "def DFS(G, i):\n",
    "    # mark i as explored\n",
    "    d[i]['explored'] = 1\n",
    "    # set leader of i as node S\n",
    "    d[i]['leader'] = S\n",
    "    for j in G[i]:\n",
    "        if d[j]['explored'] <>1:\n",
    "            DFS(G,j)\n",
    "    global t\n",
    "    t = t + 1\n",
    "    d[i]['t'] = t\n",
    "    "
   ]
  },
  {
   "cell_type": "code",
   "execution_count": 40,
   "metadata": {
    "collapsed": true
   },
   "outputs": [],
   "source": [
    "DFS_Loop(g_rev)"
   ]
  },
  {
   "cell_type": "code",
   "execution_count": 41,
   "metadata": {
    "collapsed": false
   },
   "outputs": [
    {
     "name": "stdout",
     "output_type": "stream",
     "text": [
      "{'1': {'explored': 1, 't': 9, 'leader': '1'}, '3': {'explored': 1, 't': 5, 'leader': '1'}, '2': {'explored': 1, 't': 3, 'leader': '1'}, '5': {'explored': 1, 't': 2, 'leader': '1'}, '4': {'explored': 1, 't': 1, 'leader': '1'}, '7': {'explored': 1, 't': 8, 'leader': '1'}, '6': {'explored': 1, 't': 6, 'leader': '1'}, '9': {'explored': 1, 't': 7, 'leader': '1'}, '8': {'explored': 1, 't': 4, 'leader': '1'}}\n"
     ]
    }
   ],
   "source": [
    "print d"
   ]
  },
  {
   "cell_type": "markdown",
   "metadata": {},
   "source": [
    "Reading in the forward graph for the 2nd pass of DFS"
   ]
  },
  {
   "cell_type": "raw",
   "metadata": {},
   "source": [
    "[cloudera@localhost Programming Assignment 4]$ cat SCC_test.txt\n",
    "\n",
    "1,4\n",
    "2,8\n",
    "3,6\n",
    "4,7\n",
    "5,2\n",
    "6,9\n",
    "7,1\n",
    "8,6,5\n",
    "9,7,3"
   ]
  },
  {
   "cell_type": "code",
   "execution_count": 42,
   "metadata": {
    "collapsed": true
   },
   "outputs": [],
   "source": [
    "#reading in the forward graph\n",
    "f = open(r'/home/cloudera/Desktop/educational/ADA1/Programming Assignment 4/SCC_test.txt')\n",
    "g = {}\n",
    "for line in f:\n",
    "    tail = line.strip().split(',')[0]\n",
    "    heads = line.strip().split(',')[1:]\n",
    "    g[tail] = heads"
   ]
  },
  {
   "cell_type": "code",
   "execution_count": 43,
   "metadata": {
    "collapsed": false
   },
   "outputs": [
    {
     "name": "stdout",
     "output_type": "stream",
     "text": [
      "{'1': ['4'], '3': ['6'], '2': ['8'], '5': ['2'], '4': ['7'], '7': ['1'], '6': ['9'], '9': ['7', '3'], '8': ['6', '5']}\n"
     ]
    }
   ],
   "source": [
    "print g"
   ]
  },
  {
   "cell_type": "code",
   "execution_count": 44,
   "metadata": {
    "collapsed": true
   },
   "outputs": [],
   "source": [
    "DFS_Loop(g)"
   ]
  },
  {
   "cell_type": "code",
   "execution_count": 45,
   "metadata": {
    "collapsed": false
   },
   "outputs": [
    {
     "name": "stdout",
     "output_type": "stream",
     "text": [
      "{'1': {'explored': 1, 't': 9, 'leader': '1'}, '3': {'explored': 0, 't': 0, 'leader': ''}, '2': {'explored': 0, 't': 0, 'leader': ''}, '5': {'explored': 0, 't': 0, 'leader': ''}, '4': {'explored': 1, 't': 2, 'leader': '1'}, '7': {'explored': 1, 't': 1, 'leader': '1'}, '6': {'explored': 0, 't': 0, 'leader': ''}, '9': {'explored': 0, 't': 0, 'leader': ''}, '8': {'explored': 0, 't': 0, 'leader': ''}}\n"
     ]
    }
   ],
   "source": [
    "print d"
   ]
  },
  {
   "cell_type": "code",
   "execution_count": null,
   "metadata": {
    "collapsed": true
   },
   "outputs": [],
   "source": []
  }
 ],
 "metadata": {
  "kernelspec": {
   "display_name": "Python 2",
   "language": "python",
   "name": "python2"
  },
  "language_info": {
   "codemirror_mode": {
    "name": "ipython",
    "version": 2
   },
   "file_extension": ".py",
   "mimetype": "text/x-python",
   "name": "python",
   "nbconvert_exporter": "python",
   "pygments_lexer": "ipython2",
   "version": "2.7.9"
  }
 },
 "nbformat": 4,
 "nbformat_minor": 0
}
