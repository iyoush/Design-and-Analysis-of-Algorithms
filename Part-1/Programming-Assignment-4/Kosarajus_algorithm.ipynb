{
 "cells": [
  {
   "cell_type": "markdown",
   "metadata": {},
   "source": [
    "#Design and Analysis of Algorithms I\n",
    "##Programming Assignment 4\n",
    "###Computing strongly connected components (SCCs) in a directed acyclical graph.\n",
    "\n",
    "This problem involves finding the five biggest SCCs in a directed acyclical graph. The graph is made available in the form of a 70MB text file where each row represents one edge, with the left entry representing the \"from\" node and the right entry representing the \"to\" node.\n",
    "\n",
    "Before solving the actual problem (where the given graph is a 70MB file), I have created a small test \n",
    "graph (shown below) which is represented in an adjacency list form. In each line, the first entry represents the from node of an edge while every subsequent entry represents the \"to\" nodes of the outbound edges."
   ]
  },
  {
   "cell_type": "raw",
   "metadata": {},
   "source": [
    "[cloudera@localhost Programming Assignment 4]$ cat SCC_test_rev.txt\n",
    "\n",
    "1,7\n",
    "2,5\n",
    "3,9\n",
    "4,1\n",
    "5,8\n",
    "6,8,3\n",
    "7,4,9\n",
    "8,2\n",
    "9,6"
   ]
  },
  {
   "cell_type": "markdown",
   "metadata": {},
   "source": [
    "Reversing the graph using Hadoop in order to represent it in an adjacency list format"
   ]
  },
  {
   "cell_type": "code",
   "execution_count": 1,
   "metadata": {
    "collapsed": false
   },
   "outputs": [],
   "source": [
    "# Reading in the reversed graph\n",
    "f = open(r'/home/cloudera/Desktop/educational/ADA1/Programming Assignment 4/SCC_test_rev.txt')\n",
    "g_rev = {}\n",
    "for line in f:\n",
    "    tail = line.strip().split(',')[0]\n",
    "    heads = line.strip().split(',')[1:]\n",
    "    g_rev[tail] = heads    "
   ]
  },
  {
   "cell_type": "code",
   "execution_count": 2,
   "metadata": {
    "collapsed": false
   },
   "outputs": [
    {
     "name": "stdout",
     "output_type": "stream",
     "text": [
      "{'1': ['7'], '3': ['9'], '2': ['5'], '5': ['8'], '4': ['1'], '7': ['4', '9'], '6': ['8', '3'], '9': ['6'], '8': ['2']}\n"
     ]
    }
   ],
   "source": [
    "print g_rev"
   ]
  },
  {
   "cell_type": "code",
   "execution_count": 3,
   "metadata": {
    "collapsed": false
   },
   "outputs": [],
   "source": [
    "d = {}\n",
    "is_first_pass = 1"
   ]
  },
  {
   "cell_type": "code",
   "execution_count": 4,
   "metadata": {
    "collapsed": false
   },
   "outputs": [],
   "source": [
    "def DFS_Loop(G):\n",
    "    # define the global variables\n",
    "\n",
    "    # Create a dictionary for book keeping. This dictionary will keep track of: \n",
    "    # - whether a node has been explored or not\n",
    "    # - the finishing times of each node in the first Pass of DFS on reversed graph G_rev\n",
    "    # - the leader node for each node in second pass of DFS on the forward graph G\n",
    "    global t\n",
    "    t = 0\n",
    "    global S \n",
    "    S = ''\n",
    "    if is_first_pass == 1:\n",
    "        #create the dict for book keeping\n",
    "        for key in G.keys():\n",
    "            d[key] = {'explored':0, 't':0, 'leader':''}\n",
    "        \n",
    "        # In the first pass the order of picking the nodes doesn't matter\n",
    "        sort_key = None\n",
    "    else:\n",
    "        # mark all nodes as unexplored\n",
    "        for key in G.keys():\n",
    "            d[key]['explored']= 0\n",
    "        # in the second pass, the nodes must be picked in the reverse order of their finishing times 't' \n",
    "        sort_key = lambda x: d[x]['t']\n",
    "        \n",
    "    for i in sorted(G.keys(), key = sort_key, reverse = True):\n",
    "        if d[i]['explored'] <> 1:\n",
    "            S = i\n",
    "            DFS(G,i)"
   ]
  },
  {
   "cell_type": "code",
   "execution_count": 5,
   "metadata": {
    "collapsed": false
   },
   "outputs": [],
   "source": [
    "def DFS(G, i):\n",
    "    # mark i as explored\n",
    "    d[i]['explored'] = 1\n",
    "    # set leader of i as node S\n",
    "    #global S\n",
    "    d[i]['leader'] = S\n",
    "    for j in G[i]:\n",
    "        if d[j]['explored'] <>1:\n",
    "            DFS(G,j)\n",
    "    global t\n",
    "    t = t + 1\n",
    "    d[i]['t'] = t\n",
    "    "
   ]
  },
  {
   "cell_type": "code",
   "execution_count": 6,
   "metadata": {
    "collapsed": false
   },
   "outputs": [],
   "source": [
    "DFS_Loop(g_rev)"
   ]
  },
  {
   "cell_type": "code",
   "execution_count": 7,
   "metadata": {
    "collapsed": false
   },
   "outputs": [
    {
     "name": "stdout",
     "output_type": "stream",
     "text": [
      "{'1': {'explored': 1, 't': 7, 'leader': '7'}, '3': {'explored': 1, 't': 4, 'leader': '9'}, '2': {'explored': 1, 't': 2, 'leader': '9'}, '5': {'explored': 1, 't': 1, 'leader': '9'}, '4': {'explored': 1, 't': 8, 'leader': '7'}, '7': {'explored': 1, 't': 9, 'leader': '7'}, '6': {'explored': 1, 't': 5, 'leader': '9'}, '9': {'explored': 1, 't': 6, 'leader': '9'}, '8': {'explored': 1, 't': 3, 'leader': '9'}}\n"
     ]
    }
   ],
   "source": [
    "print d"
   ]
  },
  {
   "cell_type": "code",
   "execution_count": 8,
   "metadata": {
    "collapsed": true
   },
   "outputs": [],
   "source": [
    "is_first_pass = 0"
   ]
  },
  {
   "cell_type": "markdown",
   "metadata": {},
   "source": [
    "Reading in the forward graph for the 2nd pass of DFS"
   ]
  },
  {
   "cell_type": "raw",
   "metadata": {},
   "source": [
    "[cloudera@localhost Programming Assignment 4]$ cat SCC_test.txt\n",
    "\n",
    "1,4\n",
    "2,8\n",
    "3,6\n",
    "4,7\n",
    "5,2\n",
    "6,9\n",
    "7,1\n",
    "8,6,5\n",
    "9,7,3"
   ]
  },
  {
   "cell_type": "code",
   "execution_count": 9,
   "metadata": {
    "collapsed": true
   },
   "outputs": [],
   "source": [
    "# Reading in the original graph\n",
    "f = open(r'/home/cloudera/Desktop/educational/ADA1/Programming Assignment 4/SCC_test.txt')\n",
    "g = {}\n",
    "for line in f:\n",
    "    tail = line.strip().split(',')[0]\n",
    "    heads = line.strip().split(',')[1:]\n",
    "    g[tail] = heads  "
   ]
  },
  {
   "cell_type": "code",
   "execution_count": 10,
   "metadata": {
    "collapsed": false
   },
   "outputs": [],
   "source": [
    "DFS_Loop(g)"
   ]
  },
  {
   "cell_type": "code",
   "execution_count": 11,
   "metadata": {
    "collapsed": false
   },
   "outputs": [
    {
     "name": "stdout",
     "output_type": "stream",
     "text": [
      "{'1': {'explored': 1, 't': 2, 'leader': '7'}, '3': {'explored': 1, 't': 5, 'leader': '9'}, '2': {'explored': 1, 't': 7, 'leader': '8'}, '5': {'explored': 1, 't': 8, 'leader': '8'}, '4': {'explored': 1, 't': 1, 'leader': '7'}, '7': {'explored': 1, 't': 3, 'leader': '7'}, '6': {'explored': 1, 't': 4, 'leader': '9'}, '9': {'explored': 1, 't': 6, 'leader': '9'}, '8': {'explored': 1, 't': 9, 'leader': '8'}}\n"
     ]
    }
   ],
   "source": [
    "print d"
   ]
  },
  {
   "cell_type": "code",
   "execution_count": null,
   "metadata": {
    "collapsed": true
   },
   "outputs": [],
   "source": []
  }
 ],
 "metadata": {
  "kernelspec": {
   "display_name": "Python 2",
   "language": "python",
   "name": "python2"
  },
  "language_info": {
   "codemirror_mode": {
    "name": "ipython",
    "version": 2
   },
   "file_extension": ".py",
   "mimetype": "text/x-python",
   "name": "python",
   "nbconvert_exporter": "python",
   "pygments_lexer": "ipython2",
   "version": "2.7.9"
  }
 },
 "nbformat": 4,
 "nbformat_minor": 0
}
