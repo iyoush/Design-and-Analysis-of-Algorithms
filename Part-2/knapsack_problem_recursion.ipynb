{
 "cells": [
  {
   "cell_type": "markdown",
   "metadata": {},
   "source": [
    "##Implementaion of the a Recursive Dynamic Programming algorithm to solve the Knapsack problem."
   ]
  },
  {
   "cell_type": "markdown",
   "metadata": {},
   "source": [
    "One recursive approach to solving this problem is a top down approach given by the below recursion."
   ]
  },
  {
   "cell_type": "markdown",
   "metadata": {},
   "source": [
    "$f_i^*(w) = \\underset{x \\in [0,1]}{max}\\lbrace f^*_{i+1}(w) , [v_i + f^*_{i+1}(w-w_i)]$\n",
    "\n",
    "- $i \\in {1,2,3,4,.....N}$ each stage represents an item with a total of $N$ items\n",
    "- $w \\in {0,1,2,3,...W}$ total capacity of the knapsack is $W$\n",
    "- $f_i^*(w)$ represents the maximum (additional) attainable value when going from current state $i$ to final state $N$, while making a series of policy decisions $x \\in{[0,1]}$ \n",
    "- where $x = 1$ means the $i^{th}$ item is chosen. $x = 0$ means the $i^{th}$ item is not chosen.\n",
    "- $v_i$ represents tha value of the $i^{th}$ item\n",
    "- $w_i$ represents tha weight of the $i^{th}$ item"
   ]
  },
  {
   "cell_type": "markdown",
   "metadata": {},
   "source": [
    "There is another recursive, and probably a more intuitive approach to solving this problem. The recursion is not expressed in terms of maximum \"additional value\" obtainable while going from $i^{th}$ stage to the $N^{th}$ stage. Instead, the recursion is expressed in terms of the optimal solutions for smaller subproblems."
   ]
  },
  {
   "cell_type": "markdown",
   "metadata": {},
   "source": [
    "The idea is as follows:\n",
    "\n",
    "Let $S$ denote the set of items associated with the optimal solution. Let $G$ denote the set of all $N$ items. Then $S$ is the optimal solution of $G$. Let $w$ represent the available capacity of the knapsack at the time of deciding whether or not to choose item $N$. \n",
    "\n",
    "Now, Either $N \\in S$ or $N \\notin S$. If $N \\notin S$ then $S$ is the optimal solution for a smaller problem with only the first $N-1$ items and available knapsack capacity $w$.\n",
    "\n",
    "If $N \\in S$, then $S - N$ is an optimal solution for a smaller problem with the first $N-1$ items and available capacity $w-w_N$\n",
    "\n",
    "The above recursion can be written as follows:\n",
    "\n",
    "$f_i^*(w) = \\underset{x \\in [0,1]}{max}\\lbrace f^*_{i-1}(w) , [v_i + f^*_{i-1}(w-w_i)]$"
   ]
  },
  {
   "cell_type": "markdown",
   "metadata": {},
   "source": [
    "Let us take a toy problem to implement the above recursion:"
   ]
  },
  {
   "cell_type": "code",
   "execution_count": 33,
   "metadata": {
    "collapsed": false
   },
   "outputs": [
    {
     "name": "stdout",
     "output_type": "stream",
     "text": [
      "[[ 0.  0.  0.  0.  0.  0.  0.]\n",
      " [ 0.  0.  0.  0.  0.  0.  0.]\n",
      " [ 0.  0.  0.  0.  0.  0.  0.]\n",
      " [ 0.  0.  0.  0.  0.  0.  0.]\n",
      " [ 0.  0.  0.  0.  0.  0.  0.]]\n"
     ]
    }
   ],
   "source": [
    "N = 4\n",
    "W = 6\n",
    "v = [3,2,4,4]\n",
    "w = [4,3,2,3]\n",
    "\n",
    "# let f denote the optimal solution values for smaller subproblems\n",
    "# the stages will vary from 1 to N\n",
    "# the states will vary from 0 to W\n",
    "import numpy as np\n",
    "f = np.zeros((5,7))\n",
    "print f\n",
    "for i in range(1,5):\n",
    "    for x in range(7):\n",
    "        #print i, x, \n",
    "        #print\n",
    "        if w[i-1] > x:\n",
    "            f[i, x] = f[(i-1),x]\n",
    "        else:\n",
    "            f[i, x] = max(f[(i-1),x], (v[i-1] + f[i-1, (x-w[i-1])]))"
   ]
  },
  {
   "cell_type": "code",
   "execution_count": 34,
   "metadata": {
    "collapsed": false
   },
   "outputs": [
    {
     "data": {
      "text/plain": [
       "array([[ 0.,  0.,  0.,  0.,  0.,  0.,  0.],\n",
       "       [ 0.,  0.,  0.,  0.,  3.,  3.,  3.],\n",
       "       [ 0.,  0.,  0.,  2.,  3.,  3.,  3.],\n",
       "       [ 0.,  0.,  4.,  4.,  4.,  6.,  7.],\n",
       "       [ 0.,  0.,  4.,  4.,  4.,  8.,  8.]])"
      ]
     },
     "execution_count": 34,
     "metadata": {},
     "output_type": "execute_result"
    }
   ],
   "source": [
    "f"
   ]
  },
  {
   "cell_type": "code",
   "execution_count": 47,
   "metadata": {
    "collapsed": false
   },
   "outputs": [
    {
     "data": {
      "text/plain": [
       "array([[ 0.,  0.,  0.,  0.,  0.],\n",
       "       [ 0.,  0.,  0.,  0.,  0.],\n",
       "       [ 0.,  0.,  0.,  4.,  4.],\n",
       "       [ 0.,  0.,  2.,  4.,  4.],\n",
       "       [ 0.,  3.,  3.,  4.,  4.],\n",
       "       [ 0.,  3.,  3.,  6.,  8.],\n",
       "       [ 0.,  3.,  3.,  7.,  8.]])"
      ]
     },
     "execution_count": 47,
     "metadata": {},
     "output_type": "execute_result"
    }
   ],
   "source": [
    "f.transpose()"
   ]
  },
  {
   "cell_type": "code",
   "execution_count": null,
   "metadata": {
    "collapsed": true
   },
   "outputs": [],
   "source": []
  },
  {
   "cell_type": "code",
   "execution_count": null,
   "metadata": {
    "collapsed": true
   },
   "outputs": [],
   "source": []
  }
 ],
 "metadata": {
  "kernelspec": {
   "display_name": "Python 2",
   "language": "python",
   "name": "python2"
  },
  "language_info": {
   "codemirror_mode": {
    "name": "ipython",
    "version": 2
   },
   "file_extension": ".py",
   "mimetype": "text/x-python",
   "name": "python",
   "nbconvert_exporter": "python",
   "pygments_lexer": "ipython2",
   "version": "2.7.9"
  }
 },
 "nbformat": 4,
 "nbformat_minor": 0
}
